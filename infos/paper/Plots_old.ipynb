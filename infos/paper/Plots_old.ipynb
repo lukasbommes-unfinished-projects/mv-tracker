{
 "cells": [
  {
   "cell_type": "code",
   "execution_count": 2,
   "metadata": {},
   "outputs": [],
   "source": [
    "import numpy as np\n",
    "import pandas as pd\n",
    "import matplotlib.pyplot as plt\n",
    "from matplotlib import cm\n",
    "from mpl_toolkits.axes_grid1.inset_locator import inset_axes\n",
    "from mpl_toolkits.axes_grid1.inset_locator import mark_inset"
   ]
  },
  {
   "cell_type": "code",
   "execution_count": 3,
   "metadata": {},
   "outputs": [],
   "source": [
    "plt.rcParams['lines.linewidth'] = 0.5\n",
    "plt.rcParams['lines.markersize'] = 1.5\n",
    "plt.rcParams['font.size'] = 7.0\n",
    "plt.rcParams['text.usetex'] = True\n",
    "plt.rcParams['text.latex.preamble'] = [r'\\usepackage{lmodern}']\n",
    "plt.rcParams['axes.linewidth'] = 0.5\n",
    "\n",
    "# grid\n",
    "plt.rcParams['grid.linestyle'] = \"solid\"\n",
    "plt.rcParams['grid.linewidth'] = 0.5\n",
    "plt.rcParams['grid.color'] = \"e0e0e0\"\n",
    "\n",
    "# axis ticks\n",
    "plt.rcParams['xtick.major.width'] = 0.5\n",
    "plt.rcParams['xtick.minor.width'] = 0.5\n",
    "plt.rcParams['ytick.major.width'] = 0.5\n",
    "plt.rcParams['ytick.minor.width'] = 0.5\n",
    "plt.rcParams['xtick.major.size'] = 2.0\n",
    "plt.rcParams['xtick.minor.size'] = 1.0\n",
    "plt.rcParams['ytick.major.size'] = 2.0\n",
    "plt.rcParams['ytick.minor.size'] = 1.0\n",
    "\n",
    "# legend\n",
    "plt.rcParams['legend.fontsize'] = \"small\"\n",
    "plt.rcParams['legend.framealpha'] = 1.0\n",
    "plt.rcParams['legend.labelspacing'] = 0.1\n",
    "plt.rcParams['legend.handlelength'] = 1.5\n",
    "plt.rcParams['legend.handletextpad'] = 0.5\n",
    "plt.rcParams['legend.columnspacing'] = 0.5\n",
    "plt.rcParams['legend.handleheight'] = 0.5"
   ]
  },
  {
   "cell_type": "code",
   "execution_count": 4,
   "metadata": {},
   "outputs": [],
   "source": [
    "data = pd.read_csv(\"parsed_eval_results.csv\", index_col=0)"
   ]
  },
  {
   "cell_type": "markdown",
   "metadata": {},
   "source": [
    "### Influence of Input Scale"
   ]
  },
  {
   "cell_type": "markdown",
   "metadata": {},
   "source": [
    "#### Plot without timing information"
   ]
  },
  {
   "cell_type": "code",
   "execution_count": 5,
   "metadata": {},
   "outputs": [],
   "source": [
    "k = 10\n",
    "baseline = data[data.tracker_type.isin([\"baseline\"]) & data.det_interval.isin([k])]\n",
    "baseline = baseline.sort_values(\"scale\", axis=0, ascending=True, na_position='last')\n",
    "\n",
    "deep_upsampled = data[data.tracker_type.isin([\"deep\"]) & data.mvs_mode.isin([\"upsampled\"]) & data.det_interval.isin([k])]\n",
    "deep_upsampled = deep_upsampled.sort_values(\"scale\", axis=0, ascending=True, na_position='last')\n",
    "\n",
    "deep_dense = data[data.tracker_type.isin([\"deep\"]) & data.mvs_mode.isin([\"dense\"]) & data.det_interval.isin([k])]\n",
    "deep_dense = deep_dense.sort_values(\"scale\", axis=0, ascending=True, na_position='last')"
   ]
  },
  {
   "cell_type": "code",
   "execution_count": 6,
   "metadata": {},
   "outputs": [
    {
     "data": {
      "image/png": "[encoded data removed]",
      "text/plain": [
       "<Figure size 280.8x216 with 1 Axes>"
      ]
     },
     "metadata": {
      "needs_background": "light"
     },
     "output_type": "display_data"
    }
   ],
   "source": [
    "f, ax = plt.subplots(1, 1, figsize=(3.9,3))\n",
    "\n",
    "cmap = cm.get_cmap('tab20c')\n",
    "\n",
    "# Baseline\n",
    "mask = baseline.codec.isin([\"mpeg4\"]) & baseline.vector_type.isin([\"p\", np.nan])\n",
    "ax.plot(baseline[mask][\"scale\"], baseline[mask][\"MOTA\"]*100.0, marker=\"o\", color=cmap(0))\n",
    "mask = baseline.codec.isin([\"h264\"]) & baseline.vector_type.isin([\"p\", np.nan])\n",
    "ax.plot(baseline[mask][\"scale\"], baseline[mask][\"MOTA\"]*100.0, marker=\"o\", linestyle=\"--\", color=cmap(1))\n",
    "mask = baseline.codec.isin([\"h264\"]) & baseline.vector_type.isin([\"p+b\"])\n",
    "ax.plot(baseline[mask][\"scale\"], baseline[mask][\"MOTA\"]*100.0, marker=\"o\", linestyle=\":\", color=cmap(2))\n",
    "\n",
    "# Tiny T-CNN\n",
    "mask = deep_dense.codec.isin([\"mpeg4\"]) & deep_dense.vector_type.isin([\"p\", np.nan])\n",
    "ax.plot(deep_dense[mask][\"scale\"], deep_dense[mask][\"MOTA\"]*100.0, marker=\"<\", color=cmap(4))\n",
    "mask = deep_dense.codec.isin([\"h264\"]) & deep_dense.vector_type.isin([\"p\", np.nan])\n",
    "ax.plot(deep_dense[mask][\"scale\"], deep_dense[mask][\"MOTA\"]*100.0, marker=\"<\", linestyle=\"--\", color=cmap(5))\n",
    "mask = deep_dense.codec.isin([\"h264\"]) & deep_dense.vector_type.isin([\"p+b\"])\n",
    "ax.plot(deep_dense[mask][\"scale\"], deep_dense[mask][\"MOTA\"]*100.0, marker=\"<\", linestyle=\":\", color=cmap(6))\n",
    "\n",
    "# OTCD T-CNN\n",
    "mask = deep_upsampled.codec.isin([\"mpeg4\"]) & deep_upsampled.vector_type.isin([\"p\", np.nan])\n",
    "ax.plot(deep_upsampled[mask][\"scale\"], deep_upsampled[mask][\"MOTA\"]*100.0, marker=\"d\", color=cmap(8))\n",
    "mask = deep_upsampled.codec.isin([\"h264\"]) & deep_upsampled.vector_type.isin([\"p\", np.nan])\n",
    "ax.plot(deep_upsampled[mask][\"scale\"], deep_upsampled[mask][\"MOTA\"]*100.0, marker=\"d\", linestyle=\"--\", color=cmap(9))\n",
    "\n",
    "leg = ax.legend([\"Base (MPEG4)\", \"Base (H.264, P)\", \"Base (H.264, P+B)\", \"Tiny (MPEG4)\", \"Tiny (H.264, P)\", \n",
    "                 \"Tiny (H.264, P+B)\", \"OTCD (MPEG4)\", \"OTCD (H.264, P)\"], ncol=2)\n",
    "leg.get_frame().set_linewidth(0.5)\n",
    "ax.set_ylabel(\"MOTA / \\%\")\n",
    "ax.set_xlabel(\"Scale Factor s\")\n",
    "ax.set_ylim([9.5, 46])\n",
    "ax.set_xticks([0.25, 0.5, 0.75, 1.0])\n",
    "ax.set_yticks([10, 20, 30, 40])\n",
    "ax.grid()\n",
    "plt.savefig(\"plot_scaling_factor.pdf\", bbox_inches=\"tight\", pad_inches=0.01)\n",
    "plt.show()"
   ]
  },
  {
   "cell_type": "markdown",
   "metadata": {},
   "source": [
    "#### Bar Plot"
   ]
  },
  {
   "cell_type": "code",
   "execution_count": 7,
   "metadata": {},
   "outputs": [],
   "source": [
    "k = 10\n",
    "baseline = data[data.tracker_type.isin([\"baseline\"]) & data.det_interval.isin([k])]\n",
    "baseline = baseline.sort_values(\"scale\", axis=0, ascending=True, na_position='last')\n",
    "\n",
    "deep_upsampled = data[data.tracker_type.isin([\"deep\"]) & data.mvs_mode.isin([\"upsampled\"]) & data.det_interval.isin([k])]\n",
    "deep_upsampled = deep_upsampled.sort_values(\"scale\", axis=0, ascending=True, na_position='last')\n",
    "\n",
    "deep_dense = data[data.tracker_type.isin([\"deep\"]) & data.mvs_mode.isin([\"dense\"]) & data.det_interval.isin([k])]\n",
    "deep_dense = deep_dense.sort_values(\"scale\", axis=0, ascending=True, na_position='last')"
   ]
  },
  {
   "cell_type": "code",
   "execution_count": 8,
   "metadata": {},
   "outputs": [
    {
     "data": {
      "image/png": "[encoded data removed]",
      "text/plain": [
       "<Figure size 108x129.6 with 2 Axes>"
      ]
     },
     "metadata": {
      "needs_background": "light"
     },
     "output_type": "display_data"
    }
   ],
   "source": [
    "f, ax = plt.subplots(1, 1, figsize=(1.5,1.8))\n",
    "ax1_cp = ax.twinx()\n",
    "\n",
    "cmap = cm.get_cmap('tab20c')\n",
    "\n",
    "xs = np.array([0.25, 0.5, 0.75, 1.0])\n",
    "spacer = np.array([0.0, 0.2, 0.2, 0.2])\n",
    "width = 0.1\n",
    "\n",
    "# MPEG4\n",
    "# Baseline\n",
    "mask = baseline.codec.isin([\"mpeg4\"]) & baseline.vector_type.isin([\"p\", np.nan])\n",
    "relative_predict_fps_mean = baseline[mask][\"predict_fps_mean\"] - baseline[mask][\"predict_fps_mean\"].iloc[-1]\n",
    "ax.bar(xs*3, baseline[mask][\"MOTA\"]*100.0, width=width, color=cmap(0))\n",
    "ax1_cp.bar(xs*3+width, relative_predict_fps_mean, width=width, color='r')\n",
    "\n",
    "# Tiny T-CNN\n",
    "mask = deep_dense.codec.isin([\"mpeg4\"]) & deep_dense.vector_type.isin([\"p\", np.nan])\n",
    "relative_predict_fps_mean = deep_dense[mask][\"predict_fps_mean\"] - deep_dense[mask][\"predict_fps_mean\"].iloc[-1]\n",
    "ax.bar(xs*3+xs[0]+spacer, deep_dense[mask][\"MOTA\"]*100.0, width=width, color=cmap(4))\n",
    "ax1_cp.bar(xs*3+xs[0]+width+spacer, relative_predict_fps_mean, width=width, color='r')\n",
    "\n",
    "# OTC T-CNN\n",
    "mask = deep_upsampled.codec.isin([\"mpeg4\"]) & deep_upsampled.vector_type.isin([\"p\", np.nan])\n",
    "relative_predict_fps_mean = deep_upsampled[mask][\"predict_fps_mean\"] - deep_upsampled[mask][\"predict_fps_mean\"].iloc[-1]\n",
    "ax.bar(xs*3+xs[1]+spacer, deep_upsampled[mask][\"MOTA\"]*100.0, width=width, color=cmap(8))\n",
    "ax1_cp.bar(xs*3+xs[1]+width+spacer, relative_predict_fps_mean, width=width, color='r')\n",
    "\n",
    "# H264, P\n",
    "mask = baseline.codec.isin([\"h264\"]) & baseline.vector_type.isin([\"p\", np.nan])\n",
    "relative_predict_fps_mean = baseline[mask][\"predict_fps_mean\"] - baseline[mask][\"predict_fps_mean\"].iloc[-1]\n",
    "#ax.bar(xs*3+xs[0], baseline[mask][\"MOTA\"]*100.0, width=width, color=cmap(1))\n",
    "\n",
    "# H264, P+B\n",
    "mask = baseline.codec.isin([\"h264\"]) & baseline.vector_type.isin([\"p+b\"])\n",
    "relative_predict_fps_mean = baseline[mask][\"predict_fps_mean\"] - baseline[mask][\"predict_fps_mean\"].iloc[-1]\n",
    "#ax.bar(xs*3+xs[1], baseline[mask][\"MOTA\"]*100.0, width=width, color=cmap(2))\n",
    "\n",
    "ax.set_ylabel(\"MOTA / \\%\")\n",
    "ax1_cp.set_ylabel(\"Prediction Rate Delta / Hz\")\n",
    "ax.set_xticks([])\n",
    "\n",
    "plt.savefig(\"plot_scaling_factor_2.pdf\", bbox_inches=\"tight\", pad_inches=0.01)\n",
    "plt.show()"
   ]
  },
  {
   "cell_type": "code",
   "execution_count": null,
   "metadata": {},
   "outputs": [],
   "source": []
  }
 ],
 "metadata": {
  "kernelspec": {
   "display_name": "Python 3",
   "language": "python",
   "name": "python3"
  },
  "language_info": {
   "codemirror_mode": {
    "name": "ipython",
    "version": 3
   },
   "file_extension": ".py",
   "mimetype": "text/x-python",
   "name": "python",
   "nbconvert_exporter": "python",
   "pygments_lexer": "ipython3",
   "version": "3.7.4"
  }
 },
 "nbformat": 4,
 "nbformat_minor": 2
}
