{
 "cells": [
  {
   "cell_type": "code",
   "execution_count": 1517,
   "metadata": {},
   "outputs": [],
   "source": [
    "import numpy as np\n",
    "import pandas as pd\n",
    "import matplotlib.pyplot as plt\n",
    "from matplotlib import cm"
   ]
  },
  {
   "cell_type": "code",
   "execution_count": 1518,
   "metadata": {},
   "outputs": [],
   "source": [
    "plt.rcParams['lines.linewidth'] = 0.5\n",
    "plt.rcParams['lines.markersize'] = 1.5\n",
    "plt.rcParams['font.size'] = 7.0\n",
    "plt.rcParams['text.usetex'] = True\n",
    "plt.rcParams['text.latex.preamble'] = [r'\\usepackage{lmodern}']\n",
    "plt.rcParams['axes.linewidth'] = 0.5\n",
    "\n",
    "# grid\n",
    "plt.rcParams['grid.linestyle'] = \"solid\"\n",
    "plt.rcParams['grid.linewidth'] = 0.5\n",
    "plt.rcParams['grid.color'] = \"e0e0e0\"\n",
    "\n",
    "# axis ticks\n",
    "plt.rcParams['xtick.major.width'] = 0.5\n",
    "plt.rcParams['xtick.minor.width'] = 0.5\n",
    "plt.rcParams['ytick.major.width'] = 0.5\n",
    "plt.rcParams['ytick.minor.width'] = 0.5\n",
    "plt.rcParams['xtick.major.size'] = 2.0\n",
    "plt.rcParams['xtick.minor.size'] = 1.0\n",
    "plt.rcParams['ytick.major.size'] = 2.0\n",
    "plt.rcParams['ytick.minor.size'] = 1.0\n",
    "\n",
    "# legend\n",
    "plt.rcParams['legend.fontsize'] = \"small\"\n",
    "plt.rcParams['legend.framealpha'] = 1.0\n",
    "plt.rcParams['legend.labelspacing'] = 0.1\n",
    "plt.rcParams['legend.handlelength'] = 1.5\n",
    "plt.rcParams['legend.handletextpad'] = 0.5\n",
    "plt.rcParams['legend.columnspacing'] = 0.5\n",
    "plt.rcParams['legend.handleheight'] = 0.5"
   ]
  },
  {
   "cell_type": "code",
   "execution_count": 1519,
   "metadata": {},
   "outputs": [],
   "source": [
    "data = pd.read_csv(\"parsed_eval_results.csv\", index_col=0)"
   ]
  },
  {
   "cell_type": "markdown",
   "metadata": {},
   "source": [
    "### Tracker Comparison"
   ]
  },
  {
   "cell_type": "markdown",
   "metadata": {},
   "source": [
    "### Influence of Detector Threshold"
   ]
  },
  {
   "cell_type": "code",
   "execution_count": 1520,
   "metadata": {},
   "outputs": [],
   "source": [
    "baseline = data[data.tracker_type.isin([\"baseline\"]) & data.scale.isin([1.0])]\n",
    "baseline = baseline.sort_values(\"det_interval\", axis=0, ascending=True, na_position='last')\n",
    "\n",
    "deep_upsampled = data[data.tracker_type.isin([\"deep\"]) & data.mvs_mode.isin([\"upsampled\"]) & data.scale.isin([1.0])]\n",
    "deep_upsampled = deep_upsampled.sort_values(\"det_interval\", axis=0, ascending=True, na_position='last')\n",
    "\n",
    "deep_dense = data[data.tracker_type.isin([\"deep\"]) & data.mvs_mode.isin([\"dense\"]) & data.scale.isin([1.0])]\n",
    "deep_dense = deep_dense.sort_values(\"det_interval\", axis=0, ascending=True, na_position='last')"
   ]
  },
  {
   "cell_type": "code",
   "execution_count": 1521,
   "metadata": {},
   "outputs": [
    {
     "data": {
      "image/png": "[encoded data removed]",
      "text/plain": [
       "<Figure size 280.8x216 with 1 Axes>"
      ]
     },
     "metadata": {
      "needs_background": "light"
     },
     "output_type": "display_data"
    }
   ],
   "source": [
    "f, ax = plt.subplots(1, 1, figsize=(3.9,3))  # (3, 2.3) for very small plot\n",
    "\n",
    "cmap = cm.get_cmap('tab20c')\n",
    "\n",
    "# Baseline\n",
    "mask = baseline.codec.isin([\"mpeg4\"]) & baseline.vector_type.isin([\"p\", np.nan])\n",
    "ax.plot(baseline[mask][\"det_interval\"], baseline[mask][\"MOTA\"]*100.0, marker=\"o\", color=cmap(0))\n",
    "mask = baseline.codec.isin([\"h264\"]) & baseline.vector_type.isin([\"p\", np.nan])\n",
    "ax.plot(baseline[mask][\"det_interval\"], baseline[mask][\"MOTA\"]*100.0, marker=\"o\", linestyle=\"--\", color=cmap(1))\n",
    "mask = baseline.codec.isin([\"h264\"]) & baseline.vector_type.isin([\"p+b\"])\n",
    "ax.plot(baseline[mask][\"det_interval\"], baseline[mask][\"MOTA\"]*100.0, marker=\"o\", linestyle=\":\", color=cmap(2))\n",
    "\n",
    "# Tiny T-CNN\n",
    "mask = deep_dense.codec.isin([\"mpeg4\"]) & deep_dense.vector_type.isin([\"p\", np.nan])\n",
    "ax.plot(deep_dense[mask][\"det_interval\"], deep_dense[mask][\"MOTA\"]*100.0, marker=\"<\", color=cmap(4))\n",
    "mask = deep_dense.codec.isin([\"h264\"]) & deep_dense.vector_type.isin([\"p\", np.nan])\n",
    "ax.plot(deep_dense[mask][\"det_interval\"], deep_dense[mask][\"MOTA\"]*100.0, marker=\"<\", linestyle=\"--\", color=cmap(5))\n",
    "mask = deep_dense.codec.isin([\"h264\"]) & deep_dense.vector_type.isin([\"p+b\"])\n",
    "ax.plot(deep_dense[mask][\"det_interval\"], deep_dense[mask][\"MOTA\"]*100.0, marker=\"<\", linestyle=\":\", color=cmap(6))\n",
    "\n",
    "# OTCD T-CNN\n",
    "mask = deep_upsampled.codec.isin([\"mpeg4\"]) & deep_upsampled.vector_type.isin([\"p\", np.nan])\n",
    "ax.plot(deep_upsampled[mask][\"det_interval\"], deep_upsampled[mask][\"MOTA\"]*100.0, marker=\"d\", color=cmap(8))\n",
    "mask = deep_upsampled.codec.isin([\"h264\"]) & deep_upsampled.vector_type.isin([\"p\", np.nan])\n",
    "ax.plot(deep_upsampled[mask][\"det_interval\"], deep_upsampled[mask][\"MOTA\"]*100.0, marker=\"d\", linestyle=\"--\", color=cmap(9))\n",
    "\n",
    "leg = ax.legend([\"MVmed (MPEG4)\", \"MVmed (H.264, P)\", \"MVmed (H.264, P+B)\", \"Tiny T-CNN (MPEG4)\", \"Tiny T-CNN (H.264, P)\", \n",
    "           \"Tiny T-CNN (H.264, P+B)\", \"OTCD T-CNN (MPEG4)\", \"OTCD T-CNN (H.264, P)\"], ncol=2)\n",
    "leg.get_frame().set_linewidth(0.5)\n",
    "ax.set_ylabel(\"MOTA / \\%\")\n",
    "ax.set_xlabel(\"Detector Interval $k$\")\n",
    "ax.set_ylim([-8, 52])\n",
    "ax.set_xticks([2, 4, 6, 8, 10, 15, 20])\n",
    "ax.set_yticks([0, 10, 20, 30, 40, 50])\n",
    "ax.grid()\n",
    "plt.savefig(\"plot_det_interval.pdf\", bbox_inches=\"tight\", pad_inches=0.01)\n",
    "plt.show()"
   ]
  },
  {
   "cell_type": "markdown",
   "metadata": {},
   "source": [
    "### Influence of Input Scale"
   ]
  },
  {
   "cell_type": "code",
   "execution_count": 1522,
   "metadata": {},
   "outputs": [],
   "source": [
    "k = 10\n",
    "baseline = data[data.tracker_type.isin([\"baseline\"]) & data.det_interval.isin([k])]\n",
    "baseline = baseline.sort_values(\"scale\", axis=0, ascending=True, na_position='last')\n",
    "\n",
    "deep_upsampled = data[data.tracker_type.isin([\"deep\"]) & data.mvs_mode.isin([\"upsampled\"]) & data.det_interval.isin([k])]\n",
    "deep_upsampled = deep_upsampled.sort_values(\"scale\", axis=0, ascending=True, na_position='last')\n",
    "\n",
    "deep_dense = data[data.tracker_type.isin([\"deep\"]) & data.mvs_mode.isin([\"dense\"]) & data.det_interval.isin([k])]\n",
    "deep_dense = deep_dense.sort_values(\"scale\", axis=0, ascending=True, na_position='last')"
   ]
  },
  {
   "cell_type": "markdown",
   "metadata": {},
   "source": [
    "#### Plot with offset removed"
   ]
  },
  {
   "cell_type": "code",
   "execution_count": 1523,
   "metadata": {},
   "outputs": [
    {
     "data": {
      "image/png": "[encoded data removed]",
      "text/plain": [
       "<Figure size 280.8x216 with 1 Axes>"
      ]
     },
     "metadata": {
      "needs_background": "light"
     },
     "output_type": "display_data"
    }
   ],
   "source": [
    "f, ax = plt.subplots(1, 1, figsize=(3.9,3))\n",
    "\n",
    "cmap = cm.get_cmap('tab20c')\n",
    "\n",
    "# Baseline\n",
    "mask = baseline.codec.isin([\"mpeg4\"]) & baseline.vector_type.isin([\"p\", np.nan])\n",
    "relative_predict_fps_mean = baseline[mask][\"predict_fps_mean\"] - baseline[mask][\"predict_fps_mean\"].iloc[-1]\n",
    "ax.plot(relative_predict_fps_mean, baseline[mask][\"MOTA\"]*100.0, marker=\"o\", color=cmap(0))\n",
    "\n",
    "mask = baseline.codec.isin([\"h264\"]) & baseline.vector_type.isin([\"p\", np.nan])\n",
    "relative_predict_fps_mean = baseline[mask][\"predict_fps_mean\"] - baseline[mask][\"predict_fps_mean\"].iloc[-1]\n",
    "ax.plot(relative_predict_fps_mean, baseline[mask][\"MOTA\"]*100.0, marker=\"o\", linestyle=\"--\", color=cmap(1))\n",
    "\n",
    "mask = baseline.codec.isin([\"h264\"]) & baseline.vector_type.isin([\"p+b\"])\n",
    "relative_predict_fps_mean = baseline[mask][\"predict_fps_mean\"] - baseline[mask][\"predict_fps_mean\"].iloc[-1]\n",
    "ax.plot(relative_predict_fps_mean, baseline[mask][\"MOTA\"]*100.0, marker=\"o\", linestyle=\":\", color=cmap(2))\n",
    "\n",
    "# Tiny T-CNN\n",
    "mask = deep_dense.codec.isin([\"mpeg4\"]) & deep_dense.vector_type.isin([\"p\", np.nan])\n",
    "relative_predict_fps_mean = deep_dense[mask][\"predict_fps_mean\"] - deep_dense[mask][\"predict_fps_mean\"].iloc[-1]\n",
    "ax.plot(relative_predict_fps_mean, deep_dense[mask][\"MOTA\"]*100.0, marker=\"<\", color=cmap(4))\n",
    "\n",
    "mask = deep_dense.codec.isin([\"h264\"]) & deep_dense.vector_type.isin([\"p\", np.nan])\n",
    "relative_predict_fps_mean = deep_dense[mask][\"predict_fps_mean\"] - deep_dense[mask][\"predict_fps_mean\"].iloc[-1]\n",
    "ax.plot(relative_predict_fps_mean, deep_dense[mask][\"MOTA\"]*100.0, marker=\"<\", linestyle=\"--\", color=cmap(5))\n",
    "\n",
    "mask = deep_dense.codec.isin([\"h264\"]) & deep_dense.vector_type.isin([\"p+b\"])\n",
    "relative_predict_fps_mean = deep_dense[mask][\"predict_fps_mean\"] - deep_dense[mask][\"predict_fps_mean\"].iloc[-1]\n",
    "ax.plot(relative_predict_fps_mean, deep_dense[mask][\"MOTA\"]*100.0, marker=\"<\", linestyle=\":\", color=cmap(6))\n",
    "\n",
    "# OTCD T-CNN\n",
    "mask = deep_upsampled.codec.isin([\"mpeg4\"]) & deep_upsampled.vector_type.isin([\"p\", np.nan])\n",
    "relative_predict_fps_mean = deep_upsampled[mask][\"predict_fps_mean\"] - deep_upsampled[mask][\"predict_fps_mean\"].iloc[-1]\n",
    "ax.plot(relative_predict_fps_mean, deep_upsampled[mask][\"MOTA\"]*100.0, marker=\"d\", color=cmap(8))\n",
    "\n",
    "mask = deep_upsampled.codec.isin([\"h264\"]) & deep_upsampled.vector_type.isin([\"p\", np.nan])\n",
    "relative_predict_fps_mean = deep_upsampled[mask][\"predict_fps_mean\"] - deep_upsampled[mask][\"predict_fps_mean\"].iloc[-1]\n",
    "ax.plot(relative_predict_fps_mean, deep_upsampled[mask][\"MOTA\"]*100.0, marker=\"d\", linestyle=\"--\", color=cmap(9))\n",
    "\n",
    "leg = ax.legend([\"MVmed (MPEG4)\", \"MVmed (H.264, P)\", \"MVmed (H.264, P+B)\", \"Tiny (MPEG4)\", \"Tiny (H.264, P)\", \n",
    "           \"Tiny (H.264, P+B)\", \"OTCD (MPEG4)\", \"OTCD (H.264, P)\"], ncol=2)\n",
    "leg.get_frame().set_linewidth(0.5)\n",
    "ax.set_ylabel(\"MOTA / \\%\")\n",
    "ax.set_xlabel(\"Prediction Rate Increase / Hz\")\n",
    "ax.set_ylim([9.0, 48])\n",
    "ax.set_xticks([0, 50, 100, 150, 200, 250])\n",
    "ax.set_xticklabels([\"0\",\"+50\",\"+100\",\"+150\",\"+200\",\"+250\"])\n",
    "ax.grid()\n",
    "ax.set_axisbelow(True)\n",
    "\n",
    "# write text for scale values\n",
    "plt.text(0.01, 0.945, r'$s = 1.0$', transform=ax.transAxes)\n",
    "plt.text(0.2, 0.94, r'$s = 0.75$', transform=ax.transAxes)\n",
    "plt.text(0.41, 0.89, r'$s = 0.5$', transform=ax.transAxes)\n",
    "plt.text(0.85, 0.64, r'$s = 0.25$', transform=ax.transAxes)\n",
    "\n",
    "plt.savefig(\"plot_scaling_factor.pdf\", bbox_inches=\"tight\", pad_inches=0.01)\n",
    "plt.show()"
   ]
  },
  {
   "cell_type": "markdown",
   "metadata": {},
   "source": [
    "#### Plot with offset"
   ]
  },
  {
   "cell_type": "code",
   "execution_count": 1528,
   "metadata": {},
   "outputs": [
    {
     "data": {
      "image/png": "[encoded data removed]",
      "text/plain": [
       "<Figure size 280.8x216 with 1 Axes>"
      ]
     },
     "metadata": {
      "needs_background": "light"
     },
     "output_type": "display_data"
    }
   ],
   "source": [
    "f, ax = plt.subplots(1, 1, figsize=(3.9,3))\n",
    "\n",
    "cmap = cm.get_cmap('tab20c')\n",
    "\n",
    "# Baseline\n",
    "mask = baseline.codec.isin([\"mpeg4\"]) & baseline.vector_type.isin([\"p\", np.nan])\n",
    "relative_predict_fps_mean = baseline[mask][\"predict_fps_mean\"]\n",
    "ax.plot(relative_predict_fps_mean, baseline[mask][\"MOTA\"]*100.0, marker=\"o\", color=cmap(0))\n",
    "\n",
    "mask = baseline.codec.isin([\"h264\"]) & baseline.vector_type.isin([\"p\", np.nan])\n",
    "relative_predict_fps_mean = baseline[mask][\"predict_fps_mean\"]\n",
    "ax.plot(relative_predict_fps_mean, baseline[mask][\"MOTA\"]*100.0, marker=\"o\", linestyle=\"--\", color=cmap(1))\n",
    "\n",
    "mask = baseline.codec.isin([\"h264\"]) & baseline.vector_type.isin([\"p+b\"])\n",
    "relative_predict_fps_mean = baseline[mask][\"predict_fps_mean\"]\n",
    "ax.plot(relative_predict_fps_mean, baseline[mask][\"MOTA\"]*100.0, marker=\"o\", linestyle=\":\", color=cmap(2))\n",
    "\n",
    "# Tiny T-CNN\n",
    "mask = deep_dense.codec.isin([\"mpeg4\"]) & deep_dense.vector_type.isin([\"p\", np.nan])\n",
    "relative_predict_fps_mean = deep_dense[mask][\"predict_fps_mean\"]\n",
    "ax.plot(relative_predict_fps_mean, deep_dense[mask][\"MOTA\"]*100.0, marker=\"<\", color=cmap(4))\n",
    "\n",
    "mask = deep_dense.codec.isin([\"h264\"]) & deep_dense.vector_type.isin([\"p\", np.nan])\n",
    "relative_predict_fps_mean = deep_dense[mask][\"predict_fps_mean\"]\n",
    "ax.plot(relative_predict_fps_mean, deep_dense[mask][\"MOTA\"]*100.0, marker=\"<\", linestyle=\"--\", color=cmap(5))\n",
    "\n",
    "mask = deep_dense.codec.isin([\"h264\"]) & deep_dense.vector_type.isin([\"p+b\"])\n",
    "relative_predict_fps_mean = deep_dense[mask][\"predict_fps_mean\"]\n",
    "ax.plot(relative_predict_fps_mean, deep_dense[mask][\"MOTA\"]*100.0, marker=\"<\", linestyle=\":\", color=cmap(6))\n",
    "\n",
    "# OTCD T-CNN\n",
    "mask = deep_upsampled.codec.isin([\"mpeg4\"]) & deep_upsampled.vector_type.isin([\"p\", np.nan])\n",
    "relative_predict_fps_mean = deep_upsampled[mask][\"predict_fps_mean\"]\n",
    "ax.plot(relative_predict_fps_mean, deep_upsampled[mask][\"MOTA\"]*100.0, marker=\"d\", color=cmap(8))\n",
    "\n",
    "mask = deep_upsampled.codec.isin([\"h264\"]) & deep_upsampled.vector_type.isin([\"p\", np.nan])\n",
    "relative_predict_fps_mean = deep_upsampled[mask][\"predict_fps_mean\"]\n",
    "ax.plot(relative_predict_fps_mean, deep_upsampled[mask][\"MOTA\"]*100.0, marker=\"d\", linestyle=\"--\", color=cmap(9))\n",
    "\n",
    "leg = ax.legend([\"MVmed (MPEG4)\", \"MVmed (H.264, P)\", \"MVmed (H.264, P+B)\", \"Tiny T-CNN (MPEG4)\", \"Tiny T-CNN (H.264, P)\", \n",
    "           \"Tiny T-CNN (H.264, P+B)\", \"OTCD T-CNN (MPEG4)\", \"OTCD T-CNN (H.264, P)\"], ncol=1)\n",
    "leg.get_frame().set_linewidth(0.5)\n",
    "ax.set_ylabel(\"MOTA / \\%\")\n",
    "ax.set_xlabel(\"Prediction Rate / Hz\")\n",
    "ax.set_xlim([-20, 850])\n",
    "ax.set_ylim([15, 48])\n",
    "ax.grid()\n",
    "ax.set_axisbelow(True)\n",
    "\n",
    "# write text for scale values\n",
    "plt.text(0.54, 0.93, r'$s = 1.0$', transform=ax.transAxes)\n",
    "plt.text(0.69, 0.92, r'$0.75$', transform=ax.transAxes)\n",
    "plt.text(0.77, 0.84, r'$0.5$', transform=ax.transAxes)\n",
    "plt.text(0.92, 0.58, r'$0.25$', transform=ax.transAxes)\n",
    "\n",
    "plt.savefig(\"plot_scaling_factor.pdf\", bbox_inches=\"tight\", pad_inches=0.01)\n",
    "plt.show()"
   ]
  },
  {
   "cell_type": "markdown",
   "metadata": {},
   "source": [
    "### Inference Time"
   ]
  },
  {
   "cell_type": "code",
   "execution_count": 1525,
   "metadata": {},
   "outputs": [],
   "source": [
    "k = 10\n",
    "baseline = data[data.tracker_type.isin([\"baseline\"]) & data.det_interval.isin([k])]\n",
    "baseline = baseline.sort_values(\"scale\", axis=0, ascending=True, na_position='last')\n",
    "\n",
    "deep_upsampled = data[data.tracker_type.isin([\"deep\"]) & data.mvs_mode.isin([\"upsampled\"]) & data.det_interval.isin([k])]\n",
    "deep_upsampled = deep_upsampled.sort_values(\"scale\", axis=0, ascending=True, na_position='last')\n",
    "\n",
    "deep_dense = data[data.tracker_type.isin([\"deep\"]) & data.mvs_mode.isin([\"dense\"]) & data.det_interval.isin([k])]\n",
    "deep_dense = deep_dense.sort_values(\"scale\", axis=0, ascending=True, na_position='last')"
   ]
  },
  {
   "cell_type": "code",
   "execution_count": 1526,
   "metadata": {},
   "outputs": [
    {
     "data": {
      "image/png": "[encoded data removed]",
      "text/plain": [
       "<Figure size 280.8x216 with 1 Axes>"
      ]
     },
     "metadata": {
      "needs_background": "light"
     },
     "output_type": "display_data"
    }
   ],
   "source": [
    "f, ax = plt.subplots(1, 1, figsize=(3.9,3))\n",
    "\n",
    "cmap = cm.get_cmap('tab20c')\n",
    "xs = np.array([0.25, 0.5, 0.75, 1.0])\n",
    "width = 0.04\n",
    "\n",
    "# Tiny T-CNN\n",
    "mask = deep_dense.codec.isin([\"mpeg4\"]) & deep_dense.vector_type.isin([\"p\", np.nan])\n",
    "ax.bar(xs-2*width, deep_dense[mask][\"inference_fps_mean\"], width=width, yerr=deep_dense[mask][\"inference_fps_std\"], color=cmap(4))\n",
    "\n",
    "mask = deep_dense.codec.isin([\"h264\"]) & deep_dense.vector_type.isin([\"p\", np.nan])\n",
    "ax.bar(xs-width, deep_dense[mask][\"inference_fps_mean\"], width=width, yerr=deep_dense[mask][\"inference_fps_std\"], color=cmap(5))\n",
    "\n",
    "mask = deep_dense.codec.isin([\"h264\"]) & deep_dense.vector_type.isin([\"p+b\"])\n",
    "ax.bar(xs, deep_dense[mask][\"inference_fps_mean\"], width=width, yerr=deep_dense[mask][\"inference_fps_std\"], color=cmap(6))\n",
    "\n",
    "# OTCD T-CNN\n",
    "mask = deep_upsampled.codec.isin([\"mpeg4\"]) & deep_upsampled.vector_type.isin([\"p\", np.nan])\n",
    "ax.bar(xs+width, deep_upsampled[mask][\"inference_fps_mean\"], width=width, yerr=deep_upsampled[mask][\"inference_fps_std\"], color=cmap(8))\n",
    "\n",
    "mask = deep_upsampled.codec.isin([\"h264\"]) & deep_upsampled.vector_type.isin([\"p\", np.nan])\n",
    "ax.bar(xs+2*width, deep_upsampled[mask][\"inference_fps_mean\"], width=width, yerr=deep_upsampled[mask][\"inference_fps_std\"], color=cmap(9))\n",
    "\n",
    "leg = ax.legend([\"Tiny T-CNN (MPEG4)\", \"Tiny T-CNN (H.264, P)\", \"Tiny T-CNN (H.264, P+B)\", \"OTCD T-CNN (MPEG4)\", \"OTCD T-CNN (H.264, P)\"], ncol=2)\n",
    "leg.get_frame().set_linewidth(0.5)\n",
    "ax.set_ylabel(\"Inference Rate / Hz\")\n",
    "ax.set_xlabel(\"Scale $s$\")\n",
    "ax.set_xticks([0.25, 0.5, 0.75, 1.0])\n",
    "ax.set_yticks(np.arange(0, 1001, 100))\n",
    "ax.set_yticks(np.arange(0, 1001, 25), minor=True)\n",
    "ax.tick_params(axis='x', which='both',length=0)\n",
    "ax.set_ylim([0, 990])\n",
    "ax.grid(which='major')\n",
    "ax.grid(which='minor', linestyle=\"dotted\")\n",
    "ax.set_axisbelow(True)\n",
    "\n",
    "plt.savefig(\"plot_inference_times.pdf\", bbox_inches=\"tight\", pad_inches=0.01)\n",
    "plt.show()"
   ]
  },
  {
   "cell_type": "markdown",
   "metadata": {},
   "source": [
    "### Influence of Vector Type (P vs. P+B)"
   ]
  },
  {
   "cell_type": "markdown",
   "metadata": {},
   "source": [
    "### Influence of Codec (MPEG4 vs. H.264)"
   ]
  },
  {
   "cell_type": "markdown",
   "metadata": {},
   "source": [
    "### Influence of Camera Motion on MOT17 (Static vs. Dynamic)"
   ]
  },
  {
   "cell_type": "code",
   "execution_count": null,
   "metadata": {},
   "outputs": [],
   "source": []
  }
 ],
 "metadata": {
  "kernelspec": {
   "display_name": "Python 3",
   "language": "python",
   "name": "python3"
  },
  "language_info": {
   "codemirror_mode": {
    "name": "ipython",
    "version": 3
   },
   "file_extension": ".py",
   "mimetype": "text/x-python",
   "name": "python",
   "nbconvert_exporter": "python",
   "pygments_lexer": "ipython3",
   "version": "3.7.4"
  }
 },
 "nbformat": 4,
 "nbformat_minor": 2
}
