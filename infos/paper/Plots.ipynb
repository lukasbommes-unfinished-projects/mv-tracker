{
 "cells": [
  {
   "cell_type": "code",
   "execution_count": 2223,
   "metadata": {},
   "outputs": [],
   "source": [
    "import numpy as np\n",
    "import pandas as pd\n",
    "import matplotlib.pyplot as plt\n",
    "from matplotlib import cm"
   ]
  },
  {
   "cell_type": "code",
   "execution_count": 2224,
   "metadata": {},
   "outputs": [],
   "source": [
    "plt.rcParams['lines.linewidth'] = 0.5\n",
    "plt.rcParams['lines.markersize'] = 1.5\n",
    "plt.rcParams['font.size'] = 7.0\n",
    "plt.rcParams['text.usetex'] = True\n",
    "plt.rcParams['text.latex.preamble'] = [r'\\usepackage{lmodern}']\n",
    "plt.rcParams['axes.linewidth'] = 0.5\n",
    "\n",
    "# grid\n",
    "plt.rcParams['grid.linestyle'] = \"solid\"\n",
    "plt.rcParams['grid.linewidth'] = 0.5\n",
    "plt.rcParams['grid.color'] = \"e0e0e0\"\n",
    "\n",
    "# axis ticks\n",
    "plt.rcParams['xtick.major.width'] = 0.5\n",
    "plt.rcParams['xtick.minor.width'] = 0.5\n",
    "plt.rcParams['ytick.major.width'] = 0.5\n",
    "plt.rcParams['ytick.minor.width'] = 0.5\n",
    "plt.rcParams['xtick.major.size'] = 2.0\n",
    "plt.rcParams['xtick.minor.size'] = 1.0\n",
    "plt.rcParams['ytick.major.size'] = 2.0\n",
    "plt.rcParams['ytick.minor.size'] = 1.0\n",
    "\n",
    "# legend\n",
    "plt.rcParams['legend.fontsize'] = \"small\"\n",
    "plt.rcParams['legend.framealpha'] = 1.0\n",
    "plt.rcParams['legend.labelspacing'] = 0.1\n",
    "plt.rcParams['legend.handlelength'] = 1.5\n",
    "plt.rcParams['legend.handletextpad'] = 0.5\n",
    "plt.rcParams['legend.columnspacing'] = 0.5\n",
    "plt.rcParams['legend.handleheight'] = 0.5"
   ]
  },
  {
   "cell_type": "code",
   "execution_count": 2225,
   "metadata": {},
   "outputs": [],
   "source": [
    "data = pd.read_csv(\"parsed_eval_results.csv\", index_col=0)"
   ]
  },
  {
   "cell_type": "markdown",
   "metadata": {},
   "source": [
    "### Influence of Detector Threshold"
   ]
  },
  {
   "cell_type": "code",
   "execution_count": 2186,
   "metadata": {},
   "outputs": [],
   "source": [
    "baseline = data[data.tracker_type.isin([\"baseline\"]) & data.scale.isin([1.0])]\n",
    "baseline = baseline.sort_values(\"det_interval\", axis=0, ascending=True, na_position='last')\n",
    "\n",
    "deep_upsampled = data[data.tracker_type.isin([\"deep\"]) & data.mvs_mode.isin([\"upsampled\"]) & data.scale.isin([1.0])]\n",
    "deep_upsampled = deep_upsampled.sort_values(\"det_interval\", axis=0, ascending=True, na_position='last')\n",
    "\n",
    "deep_dense = data[data.tracker_type.isin([\"deep\"]) & data.mvs_mode.isin([\"dense\"]) & data.scale.isin([1.0])]\n",
    "deep_dense = deep_dense.sort_values(\"det_interval\", axis=0, ascending=True, na_position='last')"
   ]
  },
  {
   "cell_type": "code",
   "execution_count": 2193,
   "metadata": {},
   "outputs": [
    {
     "data": {
      "image/png": "[encoded data removed]",
      "text/plain": [
       "<Figure size 187.2x151.2 with 1 Axes>"
      ]
     },
     "metadata": {
      "needs_background": "light"
     },
     "output_type": "display_data"
    }
   ],
   "source": [
    "f, ax = plt.subplots(1, 1, figsize=(2.6,2.1))  # (3, 2.3) for very small plot\n",
    "\n",
    "cmap = cm.get_cmap('tab20c')\n",
    "\n",
    "# Baseline\n",
    "mask = baseline.codec.isin([\"mpeg4\"]) & baseline.vector_type.isin([\"p\", np.nan])\n",
    "ax.plot(baseline[mask][\"det_interval\"], baseline[mask][\"MOTA\"]*100.0, marker=\"o\", color=cmap(0))\n",
    "mask = baseline.codec.isin([\"h264\"]) & baseline.vector_type.isin([\"p\", np.nan])\n",
    "ax.plot(baseline[mask][\"det_interval\"], baseline[mask][\"MOTA\"]*100.0, marker=\"o\", linestyle=\"--\", color=cmap(1))\n",
    "mask = baseline.codec.isin([\"h264\"]) & baseline.vector_type.isin([\"p+b\"])\n",
    "ax.plot(baseline[mask][\"det_interval\"], baseline[mask][\"MOTA\"]*100.0, marker=\"o\", linestyle=\":\", color=cmap(2))\n",
    "\n",
    "# Tiny T-CNN\n",
    "mask = deep_dense.codec.isin([\"mpeg4\"]) & deep_dense.vector_type.isin([\"p\", np.nan])\n",
    "ax.plot(deep_dense[mask][\"det_interval\"], deep_dense[mask][\"MOTA\"]*100.0, marker=\"<\", color=cmap(4))\n",
    "mask = deep_dense.codec.isin([\"h264\"]) & deep_dense.vector_type.isin([\"p\", np.nan])\n",
    "ax.plot(deep_dense[mask][\"det_interval\"], deep_dense[mask][\"MOTA\"]*100.0, marker=\"<\", linestyle=\"--\", color=cmap(5))\n",
    "mask = deep_dense.codec.isin([\"h264\"]) & deep_dense.vector_type.isin([\"p+b\"])\n",
    "ax.plot(deep_dense[mask][\"det_interval\"], deep_dense[mask][\"MOTA\"]*100.0, marker=\"<\", linestyle=\":\", color=cmap(6))\n",
    "\n",
    "# OTCD T-CNN\n",
    "mask = deep_upsampled.codec.isin([\"mpeg4\"]) & deep_upsampled.vector_type.isin([\"p\", np.nan])\n",
    "ax.plot(deep_upsampled[mask][\"det_interval\"], deep_upsampled[mask][\"MOTA\"]*100.0, marker=\"d\", color=cmap(8))\n",
    "mask = deep_upsampled.codec.isin([\"h264\"]) & deep_upsampled.vector_type.isin([\"p\", np.nan])\n",
    "ax.plot(deep_upsampled[mask][\"det_interval\"], deep_upsampled[mask][\"MOTA\"]*100.0, marker=\"d\", linestyle=\"--\", color=cmap(9))\n",
    "\n",
    "#leg = ax.legend([\"MVmed (MPEG4)\", \"MVmed (H.264, P)\", \"MVmed (H.264, P+B)\", \"Tiny T-CNN (MPEG4)\", \"Tiny T-CNN (H.264, P)\", \n",
    "#           \"Tiny T-CNN (H.264, P+B)\", \"OTCD T-CNN (MPEG4)\", \"OTCD T-CNN (H.264, P)\"], ncol=2)\n",
    "leg = ax.legend([r\"MVmed\\textsuperscript{M}\", r\"MVmed\\textsuperscript{H,P}\", r\"MVmed\\textsuperscript{H,P+B}\", r\"Tiny\\textsuperscript{M}\", r\"Tiny\\textsuperscript{H,P}\", \n",
    "           r\"Tiny\\textsuperscript{H,P+B}\", r\"OTCD\\textsuperscript{M}\", r\"OTCD\\textsuperscript{H,P}\"], ncol=2)\n",
    "leg.get_frame().set_linewidth(0.5)\n",
    "ax.set_ylabel(\"MOTA / \\%\")\n",
    "ax.set_xlabel(\"Detector Interval $k$\")\n",
    "ax.set_xticks([2, 4, 6, 8, 10, 15, 20])\n",
    "ax.set_yticks(np.arange(0, 51, 10))\n",
    "ax.set_yticks(np.arange(-10, 101, 2), minor=True)\n",
    "ax.set_xlim([1.5, 20.5])\n",
    "ax.set_ylim([-13, 52])\n",
    "ax.grid(which='major')\n",
    "ax.grid(which='minor', linestyle=\"dotted\")\n",
    "ax.set_axisbelow(True)\n",
    "\n",
    "plt.savefig(\"plot_det_interval.pdf\", bbox_inches=\"tight\", pad_inches=0.01)\n",
    "plt.show()"
   ]
  },
  {
   "cell_type": "markdown",
   "metadata": {},
   "source": [
    "### Influence of Input Scale"
   ]
  },
  {
   "cell_type": "code",
   "execution_count": 2216,
   "metadata": {},
   "outputs": [],
   "source": [
    "k = 10\n",
    "baseline = data[data.tracker_type.isin([\"baseline\"]) & data.det_interval.isin([k])]\n",
    "baseline = baseline.sort_values(\"scale\", axis=0, ascending=True, na_position='last')\n",
    "\n",
    "deep_upsampled = data[data.tracker_type.isin([\"deep\"]) & data.mvs_mode.isin([\"upsampled\"]) & data.det_interval.isin([k])]\n",
    "deep_upsampled = deep_upsampled.sort_values(\"scale\", axis=0, ascending=True, na_position='last')\n",
    "\n",
    "deep_dense = data[data.tracker_type.isin([\"deep\"]) & data.mvs_mode.isin([\"dense\"]) & data.det_interval.isin([k])]\n",
    "deep_dense = deep_dense.sort_values(\"scale\", axis=0, ascending=True, na_position='last')"
   ]
  },
  {
   "cell_type": "code",
   "execution_count": 2217,
   "metadata": {},
   "outputs": [
    {
     "data": {
      "image/png": "[encoded data removed]",
      "text/plain": [
       "<Figure size 187.2x151.2 with 1 Axes>"
      ]
     },
     "metadata": {
      "needs_background": "light"
     },
     "output_type": "display_data"
    }
   ],
   "source": [
    "f, ax = plt.subplots(1, 1, figsize=(2.6,2.1))\n",
    "\n",
    "cmap = cm.get_cmap('tab20c')\n",
    "\n",
    "# Baseline\n",
    "mask = baseline.codec.isin([\"mpeg4\"]) & baseline.vector_type.isin([\"p\", np.nan])\n",
    "relative_predict_fps_mean = baseline[mask][\"predict_fps_mean\"]\n",
    "ax.plot(relative_predict_fps_mean, baseline[mask][\"MOTA\"]*100.0, marker=\"o\", color=cmap(0))\n",
    "\n",
    "mask = baseline.codec.isin([\"h264\"]) & baseline.vector_type.isin([\"p\", np.nan])\n",
    "relative_predict_fps_mean = baseline[mask][\"predict_fps_mean\"]\n",
    "ax.plot(relative_predict_fps_mean, baseline[mask][\"MOTA\"]*100.0, marker=\"o\", linestyle=\"--\", color=cmap(1))\n",
    "\n",
    "mask = baseline.codec.isin([\"h264\"]) & baseline.vector_type.isin([\"p+b\"])\n",
    "relative_predict_fps_mean = baseline[mask][\"predict_fps_mean\"]\n",
    "ax.plot(relative_predict_fps_mean, baseline[mask][\"MOTA\"]*100.0, marker=\"o\", linestyle=\":\", color=cmap(2))\n",
    "\n",
    "# Tiny T-CNN\n",
    "mask = deep_dense.codec.isin([\"mpeg4\"]) & deep_dense.vector_type.isin([\"p\", np.nan])\n",
    "relative_predict_fps_mean = deep_dense[mask][\"predict_fps_mean\"]\n",
    "ax.plot(relative_predict_fps_mean, deep_dense[mask][\"MOTA\"]*100.0, marker=\"<\", color=cmap(4))\n",
    "\n",
    "mask = deep_dense.codec.isin([\"h264\"]) & deep_dense.vector_type.isin([\"p\", np.nan])\n",
    "relative_predict_fps_mean = deep_dense[mask][\"predict_fps_mean\"]\n",
    "ax.plot(relative_predict_fps_mean, deep_dense[mask][\"MOTA\"]*100.0, marker=\"<\", linestyle=\"--\", color=cmap(5))\n",
    "\n",
    "mask = deep_dense.codec.isin([\"h264\"]) & deep_dense.vector_type.isin([\"p+b\"])\n",
    "relative_predict_fps_mean = deep_dense[mask][\"predict_fps_mean\"]\n",
    "ax.plot(relative_predict_fps_mean, deep_dense[mask][\"MOTA\"]*100.0, marker=\"<\", linestyle=\":\", color=cmap(6))\n",
    "\n",
    "# OTCD T-CNN\n",
    "mask = deep_upsampled.codec.isin([\"mpeg4\"]) & deep_upsampled.vector_type.isin([\"p\", np.nan])\n",
    "relative_predict_fps_mean = deep_upsampled[mask][\"predict_fps_mean\"]\n",
    "ax.plot(relative_predict_fps_mean, deep_upsampled[mask][\"MOTA\"]*100.0, marker=\"d\", color=cmap(8))\n",
    "\n",
    "mask = deep_upsampled.codec.isin([\"h264\"]) & deep_upsampled.vector_type.isin([\"p\", np.nan])\n",
    "relative_predict_fps_mean = deep_upsampled[mask][\"predict_fps_mean\"]\n",
    "ax.plot(relative_predict_fps_mean, deep_upsampled[mask][\"MOTA\"]*100.0, marker=\"d\", linestyle=\"--\", color=cmap(9))\n",
    "\n",
    "#leg = ax.legend([\"MVmed (MPEG4)\", \"MVmed (H.264, P)\", \"MVmed (H.264, P+B)\", \"Tiny T-CNN (MPEG4)\", \"Tiny T-CNN (H.264, P)\", \n",
    "#           \"Tiny T-CNN (H.264, P+B)\", \"OTCD T-CNN (MPEG4)\", \"OTCD T-CNN (H.264, P)\"], ncol=1)\n",
    "leg = ax.legend([r\"MVmed\\textsuperscript{M}\", r\"MVmed\\textsuperscript{H,P}\", r\"MVmed\\textsuperscript{H,P+B}\", r\"Tiny\\textsuperscript{M}\", r\"Tiny\\textsuperscript{H,P}\", \n",
    "           r\"Tiny\\textsuperscript{H,P+B}\", r\"OTCD\\textsuperscript{M}\", r\"OTCD\\textsuperscript{H,P}\"], ncol=1)\n",
    "leg.get_frame().set_linewidth(0.5)\n",
    "ax.set_ylabel(\"MOTA / \\%\")\n",
    "ax.set_xlabel(\"Prediction Rate / Hz\")\n",
    "ax.set_xticks(np.arange(0, 701, 100))\n",
    "ax.set_xticks(np.arange(0, 1001, 25), minor=True)\n",
    "ax.set_yticks(np.arange(0, 101, 5))\n",
    "ax.set_yticks(np.arange(0, 101, 1), minor=True)\n",
    "ax.set_xlim([-20, 590])\n",
    "ax.set_ylim([15, 48])\n",
    "ax.grid(which='major')\n",
    "ax.grid(which='minor', linestyle=\"dotted\")\n",
    "ax.set_axisbelow(True)\n",
    "\n",
    "# write text for scale values\n",
    "plt.text(0.47, 0.935, r'$z=1.0$', transform=ax.transAxes)\n",
    "plt.text(0.7, 0.91, r'$0.75$', transform=ax.transAxes)\n",
    "plt.text(0.81, 0.84, r'$0.5$', transform=ax.transAxes)\n",
    "plt.text(0.89, 0.57, r'$0.25$', transform=ax.transAxes)\n",
    "\n",
    "plt.savefig(\"plot_scaling_factor.pdf\", bbox_inches=\"tight\", pad_inches=0.01)\n",
    "plt.show()"
   ]
  },
  {
   "cell_type": "markdown",
   "metadata": {},
   "source": [
    "### Inference Time"
   ]
  },
  {
   "cell_type": "code",
   "execution_count": 2219,
   "metadata": {},
   "outputs": [],
   "source": [
    "k = 10\n",
    "baseline = data[data.tracker_type.isin([\"baseline\"]) & data.det_interval.isin([k])]\n",
    "baseline = baseline.sort_values(\"scale\", axis=0, ascending=True, na_position='last')\n",
    "\n",
    "deep_upsampled = data[data.tracker_type.isin([\"deep\"]) & data.mvs_mode.isin([\"upsampled\"]) & data.det_interval.isin([k])]\n",
    "deep_upsampled = deep_upsampled.sort_values(\"scale\", axis=0, ascending=True, na_position='last')\n",
    "\n",
    "deep_dense = data[data.tracker_type.isin([\"deep\"]) & data.mvs_mode.isin([\"dense\"]) & data.det_interval.isin([k])]\n",
    "deep_dense = deep_dense.sort_values(\"scale\", axis=0, ascending=True, na_position='last')"
   ]
  },
  {
   "cell_type": "code",
   "execution_count": 2220,
   "metadata": {},
   "outputs": [
    {
     "data": {
      "image/png": "[encoded data removed]",
      "text/plain": [
       "<Figure size 151.2x151.2 with 1 Axes>"
      ]
     },
     "metadata": {
      "needs_background": "light"
     },
     "output_type": "display_data"
    }
   ],
   "source": [
    "f, ax = plt.subplots(1, 1, figsize=(2.1,2.1))\n",
    "\n",
    "cmap = cm.get_cmap('tab20c')\n",
    "xs = np.array([0.25, 0.5, 0.75, 1.0])\n",
    "width = 0.04\n",
    "\n",
    "# Tiny T-CNN\n",
    "mask = deep_dense.codec.isin([\"mpeg4\"]) & deep_dense.vector_type.isin([\"p\", np.nan])\n",
    "ax.bar(xs-2*width, deep_dense[mask][\"inference_fps_mean\"], width=width, yerr=deep_dense[mask][\"inference_fps_std\"], color=cmap(4))\n",
    "\n",
    "mask = deep_dense.codec.isin([\"h264\"]) & deep_dense.vector_type.isin([\"p\", np.nan])\n",
    "ax.bar(xs-width, deep_dense[mask][\"inference_fps_mean\"], width=width, yerr=deep_dense[mask][\"inference_fps_std\"], color=cmap(5))\n",
    "\n",
    "mask = deep_dense.codec.isin([\"h264\"]) & deep_dense.vector_type.isin([\"p+b\"])\n",
    "ax.bar(xs, deep_dense[mask][\"inference_fps_mean\"], width=width, yerr=deep_dense[mask][\"inference_fps_std\"], color=cmap(6))\n",
    "\n",
    "# OTCD T-CNN\n",
    "mask = deep_upsampled.codec.isin([\"mpeg4\"]) & deep_upsampled.vector_type.isin([\"p\", np.nan])\n",
    "ax.bar(xs+width, deep_upsampled[mask][\"inference_fps_mean\"], width=width, yerr=deep_upsampled[mask][\"inference_fps_std\"], color=cmap(8))\n",
    "\n",
    "mask = deep_upsampled.codec.isin([\"h264\"]) & deep_upsampled.vector_type.isin([\"p\", np.nan])\n",
    "ax.bar(xs+2*width, deep_upsampled[mask][\"inference_fps_mean\"], width=width, yerr=deep_upsampled[mask][\"inference_fps_std\"], color=cmap(9))\n",
    "\n",
    "#leg = ax.legend([\"Tiny T-CNN (MPEG4)\", \"Tiny T-CNN (H.264, P)\", \"Tiny T-CNN (H.264, P+B)\", \"OTCD T-CNN (MPEG4)\", \"OTCD T-CNN (H.264, P)\"], ncol=2, loc=2)\n",
    "leg = ax.legend([r\"Tiny\\textsuperscript{M}\", r\"Tiny\\textsuperscript{H,P}\", r\"Tiny\\textsuperscript{H,P+B}\", r\"OTCD\\textsuperscript{M}\", r\"OTCD\\textsuperscript{H,P}\"], ncol=1, loc=5)\n",
    "leg.get_frame().set_linewidth(0.5)\n",
    "ax.set_ylabel(\"Inference Rate / Hz\")\n",
    "ax.set_xlabel(\"Scale $s$\")\n",
    "ax.set_xticks([0.25, 0.5, 0.75, 1.0])\n",
    "ax.set_yticks(np.arange(0, 1101, 100))\n",
    "ax.set_yticks(np.arange(0, 1101, 25), minor=True)\n",
    "ax.tick_params(axis='x', which='both',length=0)\n",
    "ax.set_ylim([0, 825])\n",
    "ax.set_yticklabels([0, 100, 200, 300, 400, 500, 600, 700, 800])\n",
    "ax.grid(which='major')\n",
    "ax.grid(which='minor', linestyle=\"dotted\")\n",
    "ax.set_axisbelow(True)\n",
    "\n",
    "plt.savefig(\"plot_inference_times.pdf\", bbox_inches=\"tight\", pad_inches=0.01)\n",
    "plt.show()"
   ]
  },
  {
   "cell_type": "markdown",
   "metadata": {},
   "source": [
    "### Influence of Camera Motion on MOT16 / MOT17 (Static vs. Dynamic)"
   ]
  },
  {
   "cell_type": "code",
   "execution_count": 2227,
   "metadata": {},
   "outputs": [],
   "source": [
    "data = pd.DataFrame(columns=[\"benchmark\", \"tracker_type\", \"detector\", \"sequence\", \"global_motion\", \"mota\"])\n",
    "data_items = [### MOT 16 ###\n",
    "              pd.Series([\"MOT16\", \"baseline\", \"DPMv5\", \"MOT16-01\", \"static\", 22.5], index=data.columns),\n",
    "              pd.Series([\"MOT16\", \"baseline\", \"DPMv5\", \"MOT16-03\", \"static\", 40.5], index=data.columns),\n",
    "              pd.Series([\"MOT16\", \"baseline\", \"DPMv5\", \"MOT16-06\", \"moving\", 32.4], index=data.columns),\n",
    "              pd.Series([\"MOT16\", \"baseline\", \"DPMv5\", \"MOT16-07\", \"moving\", 29.5], index=data.columns),\n",
    "              pd.Series([\"MOT16\", \"baseline\", \"DPMv5\", \"MOT16-08\", \"static\", 26.5], index=data.columns),\n",
    "              pd.Series([\"MOT16\", \"baseline\", \"DPMv5\", \"MOT16-12\", \"moving\", 35.7], index=data.columns),\n",
    "              pd.Series([\"MOT16\", \"baseline\", \"DPMv5\", \"MOT16-14\", \"moving\", 15.7], index=data.columns),\n",
    "\n",
    "              pd.Series([\"MOT16\", \"baseline\", \"FRCNN\", \"MOT16-01\", \"static\", 54.6], index=data.columns),\n",
    "              pd.Series([\"MOT16\", \"baseline\", \"FRCNN\", \"MOT16-03\", \"static\", 69.4], index=data.columns),\n",
    "              pd.Series([\"MOT16\", \"baseline\", \"FRCNN\", \"MOT16-06\", \"moving\", 55.7], index=data.columns),\n",
    "              pd.Series([\"MOT16\", \"baseline\", \"FRCNN\", \"MOT16-07\", \"moving\", 58.1], index=data.columns),\n",
    "              pd.Series([\"MOT16\", \"baseline\", \"FRCNN\", \"MOT16-08\", \"static\", 36.4], index=data.columns),\n",
    "              pd.Series([\"MOT16\", \"baseline\", \"FRCNN\", \"MOT16-12\", \"moving\", 45.2], index=data.columns),\n",
    "              pd.Series([\"MOT16\", \"baseline\", \"FRCNN\", \"MOT16-14\", \"moving\", 47.1], index=data.columns),\n",
    "              \n",
    "              pd.Series([\"MOT16\", \"TinyTCNN\", \"DPMv5\", \"MOT16-01\", \"static\", 21.3], index=data.columns),\n",
    "              pd.Series([\"MOT16\", \"TinyTCNN\", \"DPMv5\", \"MOT16-03\", \"static\", 39.9], index=data.columns),\n",
    "              pd.Series([\"MOT16\", \"TinyTCNN\", \"DPMv5\", \"MOT16-06\", \"moving\", 21.5], index=data.columns),\n",
    "              pd.Series([\"MOT16\", \"TinyTCNN\", \"DPMv5\", \"MOT16-07\", \"moving\", 26.4], index=data.columns),\n",
    "              pd.Series([\"MOT16\", \"TinyTCNN\", \"DPMv5\", \"MOT16-08\", \"static\", 26.3], index=data.columns),\n",
    "              pd.Series([\"MOT16\", \"TinyTCNN\", \"DPMv5\", \"MOT16-12\", \"moving\", 30.8], index=data.columns),\n",
    "              pd.Series([\"MOT16\", \"TinyTCNN\", \"DPMv5\", \"MOT16-14\", \"moving\", 3.2], index=data.columns),\n",
    "              \n",
    "              #pd.Series([\"MOT16\", \"TinyTCNN\", \"FRCNN\", \"MOT16-01\", \"static\", ], index=data.columns),\n",
    "              #pd.Series([\"MOT16\", \"TinyTCNN\", \"FRCNN\", \"MOT16-03\", \"static\", ], index=data.columns),\n",
    "              #pd.Series([\"MOT16\", \"TinyTCNN\", \"FRCNN\", \"MOT16-06\", \"moving\", ], index=data.columns),\n",
    "              #pd.Series([\"MOT16\", \"TinyTCNN\", \"FRCNN\", \"MOT16-07\", \"moving\", ], index=data.columns),\n",
    "              #pd.Series([\"MOT16\", \"TinyTCNN\", \"FRCNN\", \"MOT16-08\", \"static\", ], index=data.columns),\n",
    "              #pd.Series([\"MOT16\", \"TinyTCNN\", \"FRCNN\", \"MOT16-12\", \"moving\", ], index=data.columns),\n",
    "              #pd.Series([\"MOT16\", \"TinyTCNN\", \"FRCNN\", \"MOT16-14\", \"moving\", ], index=data.columns),\n",
    "              \n",
    "              ### MOT 17 ###\n",
    "              pd.Series([\"MOT17\", \"baseline\", \"DPM\", \"MOT17-01\", \"static\", 20.6], index=data.columns),\n",
    "              pd.Series([\"MOT17\", \"baseline\", \"DPM\", \"MOT17-03\", \"static\", 38.7], index=data.columns),\n",
    "              pd.Series([\"MOT17\", \"baseline\", \"DPM\", \"MOT17-06\", \"moving\", 35.0], index=data.columns),\n",
    "              pd.Series([\"MOT17\", \"baseline\", \"DPM\", \"MOT17-07\", \"moving\", 27.3], index=data.columns),\n",
    "              pd.Series([\"MOT17\", \"baseline\", \"DPM\", \"MOT17-08\", \"static\", 21.3], index=data.columns),\n",
    "              pd.Series([\"MOT17\", \"baseline\", \"DPM\", \"MOT17-12\", \"moving\", 35.2], index=data.columns),\n",
    "              pd.Series([\"MOT17\", \"baseline\", \"DPM\", \"MOT17-14\", \"moving\", 14.5], index=data.columns),\n",
    "    \n",
    "              pd.Series([\"MOT17\", \"baseline\", \"FRCNN\", \"MOT17-01\", \"static\", 28.0], index=data.columns),\n",
    "              pd.Series([\"MOT17\", \"baseline\", \"FRCNN\", \"MOT17-03\", \"static\", 57.6], index=data.columns),\n",
    "              pd.Series([\"MOT17\", \"baseline\", \"FRCNN\", \"MOT17-06\", \"moving\", 50.7], index=data.columns),\n",
    "              pd.Series([\"MOT17\", \"baseline\", \"FRCNN\", \"MOT17-07\", \"moving\", 33.6], index=data.columns),\n",
    "              pd.Series([\"MOT17\", \"baseline\", \"FRCNN\", \"MOT17-08\", \"static\", 23.0], index=data.columns),\n",
    "              pd.Series([\"MOT17\", \"baseline\", \"FRCNN\", \"MOT17-12\", \"moving\", 37.1], index=data.columns),\n",
    "              pd.Series([\"MOT17\", \"baseline\", \"FRCNN\", \"MOT17-14\", \"moving\", 20.2], index=data.columns),\n",
    "    \n",
    "              pd.Series([\"MOT17\", \"baseline\", \"SDP\", \"MOT17-01\", \"static\", 34.0], index=data.columns),\n",
    "              pd.Series([\"MOT17\", \"baseline\", \"SDP\", \"MOT17-03\", \"static\", 74.8], index=data.columns),\n",
    "              pd.Series([\"MOT17\", \"baseline\", \"SDP\", \"MOT17-06\", \"moving\", 50.7], index=data.columns),\n",
    "              pd.Series([\"MOT17\", \"baseline\", \"SDP\", \"MOT17-07\", \"moving\", 46.7], index=data.columns),\n",
    "              pd.Series([\"MOT17\", \"baseline\", \"SDP\", \"MOT17-08\", \"static\", 29.7], index=data.columns),\n",
    "              pd.Series([\"MOT17\", \"baseline\", \"SDP\", \"MOT17-12\", \"moving\", 38.0], index=data.columns),\n",
    "              pd.Series([\"MOT17\", \"baseline\", \"SDP\", \"MOT17-14\", \"moving\", 28.8], index=data.columns),\n",
    "    \n",
    "              pd.Series([\"MOT17\", \"TinyTCNN\", \"DPM\", \"MOT17-01\", \"static\", 20.1], index=data.columns),\n",
    "              pd.Series([\"MOT17\", \"TinyTCNN\", \"DPM\", \"MOT17-03\", \"static\", 38.6], index=data.columns),\n",
    "              pd.Series([\"MOT17\", \"TinyTCNN\", \"DPM\", \"MOT17-06\", \"moving\", 26.0], index=data.columns),\n",
    "              pd.Series([\"MOT17\", \"TinyTCNN\", \"DPM\", \"MOT17-07\", \"moving\", 25.6], index=data.columns),\n",
    "              pd.Series([\"MOT17\", \"TinyTCNN\", \"DPM\", \"MOT17-08\", \"static\", 21.3], index=data.columns),\n",
    "              pd.Series([\"MOT17\", \"TinyTCNN\", \"DPM\", \"MOT17-12\", \"moving\", 32.7], index=data.columns),\n",
    "              pd.Series([\"MOT17\", \"TinyTCNN\", \"DPM\", \"MOT17-14\", \"moving\", 5.6], index=data.columns),\n",
    "    \n",
    "              pd.Series([\"MOT17\", \"TinyTCNN\", \"FRCNN\", \"MOT17-01\", \"static\", 26.4], index=data.columns),\n",
    "              pd.Series([\"MOT17\", \"TinyTCNN\", \"FRCNN\", \"MOT17-03\", \"static\", 57.2], index=data.columns),\n",
    "              pd.Series([\"MOT17\", \"TinyTCNN\", \"FRCNN\", \"MOT17-06\", \"moving\", 36.7], index=data.columns),\n",
    "              pd.Series([\"MOT17\", \"TinyTCNN\", \"FRCNN\", \"MOT17-07\", \"moving\", 32.3], index=data.columns),\n",
    "              pd.Series([\"MOT17\", \"TinyTCNN\", \"FRCNN\", \"MOT17-08\", \"static\", 22.7], index=data.columns),\n",
    "              pd.Series([\"MOT17\", \"TinyTCNN\", \"FRCNN\", \"MOT17-12\", \"moving\", 34.4], index=data.columns),\n",
    "              pd.Series([\"MOT17\", \"TinyTCNN\", \"FRCNN\", \"MOT17-14\", \"moving\", 4.9], index=data.columns),\n",
    "    \n",
    "              pd.Series([\"MOT17\", \"TinyTCNN\", \"SDP\", \"MOT17-01\", \"static\", 33.5], index=data.columns),\n",
    "              pd.Series([\"MOT17\", \"TinyTCNN\", \"SDP\", \"MOT17-03\", \"static\", 74.0], index=data.columns),\n",
    "              pd.Series([\"MOT17\", \"TinyTCNN\", \"SDP\", \"MOT17-06\", \"moving\", 33.7], index=data.columns),\n",
    "              pd.Series([\"MOT17\", \"TinyTCNN\", \"SDP\", \"MOT17-07\", \"moving\", 43.9], index=data.columns),\n",
    "              pd.Series([\"MOT17\", \"TinyTCNN\", \"SDP\", \"MOT17-08\", \"static\", 29.4], index=data.columns),\n",
    "              pd.Series([\"MOT17\", \"TinyTCNN\", \"SDP\", \"MOT17-12\", \"moving\", 35.0], index=data.columns),\n",
    "              pd.Series([\"MOT17\", \"TinyTCNN\", \"SDP\", \"MOT17-14\", \"moving\", 5.1], index=data.columns),\n",
    "            ]\n",
    "\n",
    "data = data.append(data_items, ignore_index=True)"
   ]
  },
  {
   "cell_type": "code",
   "execution_count": 2228,
   "metadata": {},
   "outputs": [],
   "source": [
    "motas = pd.DataFrame(columns=[\"benchmark\", \"tracker_type\", \"detector\", \"global_motion\", \"mean_mota\", \"std_mota\"])\n",
    "mota_items = []\n",
    "\n",
    "combinations = data.loc[:, [\"benchmark\", \"tracker_type\", \"detector\", \"global_motion\"]].drop_duplicates()\n",
    "\n",
    "for i, combination in combinations.iterrows():\n",
    "    combination = dict(combination)\n",
    "    \n",
    "    benchmark = combination[\"benchmark\"]\n",
    "    tracker_type = combination[\"tracker_type\"]\n",
    "    detector = combination[\"detector\"]\n",
    "    global_motion = combination[\"global_motion\"]\n",
    "    \n",
    "    mask = (data.benchmark.isin([benchmark])\n",
    "            & data.tracker_type.isin([tracker_type])\n",
    "            & data.detector.isin([detector])\n",
    "            & data.global_motion.isin([global_motion]))\n",
    "    \n",
    "    mean_mota = np.mean(data[mask][\"mota\"])\n",
    "    std_mota = np.std(data[mask][\"mota\"])\n",
    "    \n",
    "    mota_items.append(pd.Series([benchmark, tracker_type, detector, global_motion, mean_mota, std_mota], index=motas.columns))\n",
    "    \n",
    "    if global_motion == \"static\": # do only once\n",
    "        \n",
    "        mask_overall = (data.benchmark.isin([benchmark])\n",
    "            & data.tracker_type.isin([tracker_type])\n",
    "            & data.detector.isin([detector]))\n",
    "        \n",
    "        mean_mota = np.mean(data[mask_overall][\"mota\"])\n",
    "        std_mota = np.std(data[mask_overall][\"mota\"])        \n",
    "        \n",
    "        mota_items.append(pd.Series([benchmark, tracker_type, detector, \"overall\", mean_mota, std_mota], index=motas.columns))\n",
    "       \n",
    "motas = motas.append(mota_items, ignore_index=True)"
   ]
  },
  {
   "cell_type": "code",
   "execution_count": 2229,
   "metadata": {},
   "outputs": [
    {
     "data": {
      "image/png": "[encoded data removed]",
      "text/plain": [
       "<Figure size 122.4x151.2 with 1 Axes>"
      ]
     },
     "metadata": {
      "needs_background": "light"
     },
     "output_type": "display_data"
    }
   ],
   "source": [
    "f, ax = plt.subplots(1, 1, figsize=(1.7,2.1))\n",
    "\n",
    "cmap = cm.get_cmap('tab20c')\n",
    "width = 0.5\n",
    "tracker_type = \"baseline\"\n",
    "\n",
    "# DPM\n",
    "mask = motas.benchmark.isin([\"MOT17\"]) & motas.tracker_type.isin([tracker_type]) & motas.detector.isin([\"DPM\"]) & motas.global_motion.isin([\"overall\"])\n",
    "ax.bar(0, motas[mask][\"mean_mota\"], width=width, yerr=motas[mask][\"std_mota\"], color=cmap(7))\n",
    "\n",
    "mask = motas.benchmark.isin([\"MOT17\"]) & motas.tracker_type.isin([tracker_type]) & motas.detector.isin([\"DPM\"]) & motas.global_motion.isin([\"static\"])\n",
    "ax.bar(0.5, motas[mask][\"mean_mota\"], width=width, yerr=motas[mask][\"std_mota\"], color=cmap(5))\n",
    "\n",
    "mask = motas.benchmark.isin([\"MOT17\"]) & motas.tracker_type.isin([tracker_type]) & motas.detector.isin([\"DPM\"]) & motas.global_motion.isin([\"moving\"])\n",
    "ax.bar(1, motas[mask][\"mean_mota\"], width=width, yerr=motas[mask][\"std_mota\"], color=cmap(0))\n",
    "\n",
    "# FRCNN\n",
    "mask = motas.benchmark.isin([\"MOT17\"]) & motas.tracker_type.isin([tracker_type]) & motas.detector.isin([\"FRCNN\"]) & motas.global_motion.isin([\"overall\"])\n",
    "ax.bar(2, motas[mask][\"mean_mota\"], width=width, yerr=motas[mask][\"std_mota\"], color=cmap(7))\n",
    "\n",
    "mask = motas.benchmark.isin([\"MOT17\"]) & motas.tracker_type.isin([tracker_type]) & motas.detector.isin([\"FRCNN\"]) & motas.global_motion.isin([\"static\"])\n",
    "ax.bar(2.5, motas[mask][\"mean_mota\"], width=width, yerr=motas[mask][\"std_mota\"], color=cmap(5))\n",
    "\n",
    "mask = motas.benchmark.isin([\"MOT17\"]) & motas.tracker_type.isin([tracker_type]) & motas.detector.isin([\"FRCNN\"]) & motas.global_motion.isin([\"moving\"])\n",
    "ax.bar(3, motas[mask][\"mean_mota\"], width=width, yerr=motas[mask][\"std_mota\"], color=cmap(0))\n",
    "\n",
    "# SDP\n",
    "mask = motas.benchmark.isin([\"MOT17\"]) & motas.tracker_type.isin([tracker_type]) & motas.detector.isin([\"SDP\"]) & motas.global_motion.isin([\"overall\"])\n",
    "ax.bar(4, motas[mask][\"mean_mota\"], width=width, yerr=motas[mask][\"std_mota\"], color=cmap(7))\n",
    "\n",
    "mask = motas.benchmark.isin([\"MOT17\"]) & motas.tracker_type.isin([tracker_type]) & motas.detector.isin([\"SDP\"]) & motas.global_motion.isin([\"static\"])\n",
    "ax.bar(4.5, motas[mask][\"mean_mota\"], width=width, yerr=motas[mask][\"std_mota\"], color=cmap(5))\n",
    "\n",
    "mask = motas.benchmark.isin([\"MOT17\"]) & motas.tracker_type.isin([tracker_type]) & motas.detector.isin([\"SDP\"]) & motas.global_motion.isin([\"moving\"])\n",
    "ax.bar(5, motas[mask][\"mean_mota\"], width=width, yerr=motas[mask][\"std_mota\"], color=cmap(0))\n",
    "\n",
    "leg = ax.legend([\"Overall\", \"Static Cam\", \"Moving Cam\"], loc=2, ncol=1)\n",
    "leg.get_frame().set_linewidth(0.5)\n",
    "ax.set_ylabel(\"MOTA / \\%\")\n",
    "#ax.set_xlabel(\"Detector\")\n",
    "ax.set_xticks([0.5, 2.5, 4.5])\n",
    "ax.set_xticklabels([\"DPM\", \"FRCNN\", \"SDP\"])\n",
    "ax.tick_params(axis='x', which='both',length=0)\n",
    "ax.set_yticks(np.arange(0, 101, 5))\n",
    "ax.set_yticks(np.arange(0, 101, 1), minor=True)\n",
    "ax.set_ylim([11, 67])\n",
    "ax.grid(which='major')\n",
    "ax.grid(which='minor', linestyle=\"dotted\")\n",
    "ax.set_axisbelow(True)\n",
    "\n",
    "plt.savefig(\"plot_detector_influence_baseline.pdf\", bbox_inches=\"tight\", pad_inches=0.01)\n",
    "plt.show()"
   ]
  },
  {
   "cell_type": "code",
   "execution_count": 2231,
   "metadata": {},
   "outputs": [
    {
     "data": {
      "image/png": "[encoded data removed]",
      "text/plain": [
       "<Figure size 122.4x151.2 with 1 Axes>"
      ]
     },
     "metadata": {
      "needs_background": "light"
     },
     "output_type": "display_data"
    }
   ],
   "source": [
    "f, ax = plt.subplots(1, 1, figsize=(1.7,2.1))\n",
    "\n",
    "cmap = cm.get_cmap('tab20c')\n",
    "width = 0.5\n",
    "tracker_type = \"TinyTCNN\"\n",
    "\n",
    "# DPM\n",
    "mask = motas.benchmark.isin([\"MOT17\"]) & motas.tracker_type.isin([tracker_type]) & motas.detector.isin([\"DPM\"]) & motas.global_motion.isin([\"overall\"])\n",
    "ax.bar(0, motas[mask][\"mean_mota\"], width=width, yerr=motas[mask][\"std_mota\"], color=cmap(7))\n",
    "\n",
    "mask = motas.benchmark.isin([\"MOT17\"]) & motas.tracker_type.isin([tracker_type]) & motas.detector.isin([\"DPM\"]) & motas.global_motion.isin([\"static\"])\n",
    "ax.bar(0.5, motas[mask][\"mean_mota\"], width=width, yerr=motas[mask][\"std_mota\"], color=cmap(5))\n",
    "\n",
    "mask = motas.benchmark.isin([\"MOT17\"]) & motas.tracker_type.isin([tracker_type]) & motas.detector.isin([\"DPM\"]) & motas.global_motion.isin([\"moving\"])\n",
    "ax.bar(1, motas[mask][\"mean_mota\"], width=width, yerr=motas[mask][\"std_mota\"], color=cmap(0))\n",
    "\n",
    "# FRCNN\n",
    "mask = motas.benchmark.isin([\"MOT17\"]) & motas.tracker_type.isin([tracker_type]) & motas.detector.isin([\"FRCNN\"]) & motas.global_motion.isin([\"overall\"])\n",
    "ax.bar(2, motas[mask][\"mean_mota\"], width=width, yerr=motas[mask][\"std_mota\"], color=cmap(7))\n",
    "\n",
    "mask = motas.benchmark.isin([\"MOT17\"]) & motas.tracker_type.isin([tracker_type]) & motas.detector.isin([\"FRCNN\"]) & motas.global_motion.isin([\"static\"])\n",
    "ax.bar(2.5, motas[mask][\"mean_mota\"], width=width, yerr=motas[mask][\"std_mota\"], color=cmap(5))\n",
    "\n",
    "mask = motas.benchmark.isin([\"MOT17\"]) & motas.tracker_type.isin([tracker_type]) & motas.detector.isin([\"FRCNN\"]) & motas.global_motion.isin([\"moving\"])\n",
    "ax.bar(3, motas[mask][\"mean_mota\"], width=width, yerr=motas[mask][\"std_mota\"], color=cmap(0))\n",
    "\n",
    "# SDP\n",
    "mask = motas.benchmark.isin([\"MOT17\"]) & motas.tracker_type.isin([tracker_type]) & motas.detector.isin([\"SDP\"]) & motas.global_motion.isin([\"overall\"])\n",
    "ax.bar(4, motas[mask][\"mean_mota\"], width=width, yerr=motas[mask][\"std_mota\"], color=cmap(7))\n",
    "\n",
    "mask = motas.benchmark.isin([\"MOT17\"]) & motas.tracker_type.isin([tracker_type]) & motas.detector.isin([\"SDP\"]) & motas.global_motion.isin([\"static\"])\n",
    "ax.bar(4.5, motas[mask][\"mean_mota\"], width=width, yerr=motas[mask][\"std_mota\"], color=cmap(5))\n",
    "\n",
    "mask = motas.benchmark.isin([\"MOT17\"]) & motas.tracker_type.isin([tracker_type]) & motas.detector.isin([\"SDP\"]) & motas.global_motion.isin([\"moving\"])\n",
    "ax.bar(5, motas[mask][\"mean_mota\"], width=width, yerr=motas[mask][\"std_mota\"], color=cmap(0))\n",
    "\n",
    "leg = ax.legend([\"Overall\", \"Static Cam\", \"Moving Cam\"], loc=2, ncol=1)\n",
    "leg.get_frame().set_linewidth(0.5)\n",
    "ax.set_ylabel(\"MOTA / \\%\")\n",
    "#ax.set_xlabel(\"Detector\")\n",
    "ax.set_xticks([0.5, 2.5, 4.5])\n",
    "ax.set_xticklabels([\"DPM\", \"FRCNN\", \"SDP\"])\n",
    "ax.tick_params(axis='x', which='both',length=0)\n",
    "ax.set_yticks(np.arange(0, 101, 5))\n",
    "ax.set_yticks(np.arange(0, 101, 1), minor=True)\n",
    "ax.set_ylim([11, 67])\n",
    "ax.grid(which='major')\n",
    "ax.grid(which='minor', linestyle=\"dotted\")\n",
    "ax.set_axisbelow(True)\n",
    "\n",
    "plt.savefig(\"plot_detector_influence_deep_dense.pdf\", bbox_inches=\"tight\", pad_inches=0.01)\n",
    "plt.show()"
   ]
  },
  {
   "cell_type": "code",
   "execution_count": null,
   "metadata": {},
   "outputs": [],
   "source": []
  }
 ],
 "metadata": {
  "kernelspec": {
   "display_name": "Python 3",
   "language": "python",
   "name": "python3"
  },
  "language_info": {
   "codemirror_mode": {
    "name": "ipython",
    "version": 3
   },
   "file_extension": ".py",
   "mimetype": "text/x-python",
   "name": "python",
   "nbconvert_exporter": "python",
   "pygments_lexer": "ipython3",
   "version": "3.7.4"
  }
 },
 "nbformat": 4,
 "nbformat_minor": 2
}
